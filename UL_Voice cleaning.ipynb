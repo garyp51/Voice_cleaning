{
 "cells": [
  {
   "cell_type": "code",
   "execution_count": null,
   "metadata": {},
   "outputs": [],
   "source": [
    "import pandas as pd\n",
    "from datetime import datetime"
   ]
  },
  {
   "cell_type": "code",
   "execution_count": null,
   "metadata": {},
   "outputs": [],
   "source": [
    "data = pd.read_csv('..\\Voice\\data.csv')"
   ]
  },
  {
   "cell_type": "code",
   "execution_count": null,
   "metadata": {},
   "outputs": [],
   "source": [
    "#convert to dataframe\n",
    "df = pd.DataFrame(data)"
   ]
  },
  {
   "cell_type": "code",
   "execution_count": null,
   "metadata": {},
   "outputs": [],
   "source": [
    "df.head(10)"
   ]
  },
  {
   "cell_type": "code",
   "execution_count": null,
   "metadata": {},
   "outputs": [],
   "source": [
    "# remove alexa only entries from user_text\n",
    "df = df[df.user_text != 'alexa']\n",
    "\n",
    "# remove unknown entries from intent_type\n",
    "df = df[df.intent_type != 'Unknown']\n",
    "\n",
    "# converts interaction_time unix code column to correct date/time\n",
    "df['full_date'] = pd.to_datetime(df.interaction_time, unit='ms')\n",
    "\n",
    "# split full_date into seperate date, time, hour columns \n",
    "df['date'] = pd.to_datetime(df.full_date).dt.date\n",
    "df['time'] = pd.to_datetime(df.full_date).dt.time\n",
    "df['hour'] = pd.to_datetime(df.full_date).dt.hour\n",
    "\n",
    "# creates days column\n",
    "df['day'] = df.full_date.dt.day_name()\n",
    "\n",
    "df.fillna('', inplace=True)\n",
    "\n",
    "# Merge both platform text cols together\n",
    "df['platform_text_full'] = df['platform_text.0'] + ' ' + df['platform_text.1']"
   ]
  },
  {
   "cell_type": "code",
   "execution_count": null,
   "metadata": {},
   "outputs": [],
   "source": [
    "#drops original columns that have been converted\n",
    "df = df.drop(['conversation_date', 'interaction_time', 'platform_text.0', 'platform_text.1', 'full_date'], axis=1)"
   ]
  },
  {
   "cell_type": "code",
   "execution_count": null,
   "metadata": {},
   "outputs": [],
   "source": [
    "# reorder columns\n",
    "df = df[['date', 'time', 'hour', 'day', 'intent_type', 'nlu_domain', 'skill', 'user_text', 'platform_text_full']]"
   ]
  },
  {
   "cell_type": "code",
   "execution_count": null,
   "metadata": {},
   "outputs": [],
   "source": [
    "df.head()"
   ]
  },
  {
   "cell_type": "code",
   "execution_count": null,
   "metadata": {},
   "outputs": [],
   "source": [
    "df.to_csv('UL_Voice_cleaned.csv', encoding='utf-8')"
   ]
  }
 ],
 "metadata": {
  "kernelspec": {
   "display_name": "Python 3",
   "language": "python",
   "name": "python3"
  },
  "language_info": {
   "codemirror_mode": {
    "name": "ipython",
    "version": 3
   },
   "file_extension": ".py",
   "mimetype": "text/x-python",
   "name": "python",
   "nbconvert_exporter": "python",
   "pygments_lexer": "ipython3",
   "version": "3.7.0"
  }
 },
 "nbformat": 4,
 "nbformat_minor": 2
}
